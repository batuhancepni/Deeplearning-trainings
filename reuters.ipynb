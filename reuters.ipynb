{
  "nbformat": 4,
  "nbformat_minor": 0,
  "metadata": {
    "colab": {
      "name": "reuters.ipynb",
      "provenance": [],
      "collapsed_sections": [],
      "authorship_tag": "ABX9TyPqa4B94p1FnYwDcTTNReYa",
      "include_colab_link": true
    },
    "kernelspec": {
      "name": "python3",
      "display_name": "Python 3"
    },
    "language_info": {
      "name": "python"
    }
  },
  "cells": [
    {
      "cell_type": "markdown",
      "metadata": {
        "id": "view-in-github",
        "colab_type": "text"
      },
      "source": [
        "<a href=\"https://colab.research.google.com/github/batuhancepni/Deeplearning-trainings/blob/main/reuters.ipynb\" target=\"_parent\"><img src=\"https://colab.research.google.com/assets/colab-badge.svg\" alt=\"Open In Colab\"/></a>"
      ]
    },
    {
      "cell_type": "code",
      "metadata": {
        "id": "lnPkd7rtHbeJ"
      },
      "source": [
        "from keras.datasets import reuters"
      ],
      "execution_count": 1,
      "outputs": []
    },
    {
      "cell_type": "code",
      "metadata": {
        "colab": {
          "base_uri": "https://localhost:8080/"
        },
        "id": "xbsXT8ohcfwb",
        "outputId": "3be0bbd5-dd0a-4d99-8958-07198a08ac22"
      },
      "source": [
        "(train_data,train_labels), (test_data,test_labels) = reuters.load_data(num_words=10000)"
      ],
      "execution_count": 2,
      "outputs": [
        {
          "output_type": "stream",
          "name": "stdout",
          "text": [
            "Downloading data from https://storage.googleapis.com/tensorflow/tf-keras-datasets/reuters.npz\n",
            "2113536/2110848 [==============================] - 0s 0us/step\n",
            "2121728/2110848 [==============================] - 0s 0us/step\n"
          ]
        }
      ]
    },
    {
      "cell_type": "code",
      "metadata": {
        "colab": {
          "base_uri": "https://localhost:8080/"
        },
        "id": "YZZxJOtieOal",
        "outputId": "c6fa555d-5fa3-43a7-d17c-b77b8e0e9bd8"
      },
      "source": [
        "word_index = reuters.get_word_index()\n",
        "reverse_word_index = dict([(value, key) for (key, value) in word_index.items()])\n",
        "decoded_newswire = ' '.join([reverse_word_index.get(i - 3, '?') for i in train_data[0]])"
      ],
      "execution_count": 3,
      "outputs": [
        {
          "output_type": "stream",
          "name": "stdout",
          "text": [
            "Downloading data from https://storage.googleapis.com/tensorflow/tf-keras-datasets/reuters_word_index.json\n",
            "557056/550378 [==============================] - 0s 0us/step\n",
            "565248/550378 [==============================] - 0s 0us/step\n"
          ]
        }
      ]
    },
    {
      "cell_type": "code",
      "metadata": {
        "id": "l4eQLa2vfDvD"
      },
      "source": [
        "import numpy as np"
      ],
      "execution_count": 4,
      "outputs": []
    },
    {
      "cell_type": "code",
      "metadata": {
        "id": "zspik656hKJB"
      },
      "source": [
        "def vectorize_sequences(sequences, dimension=10000):\n",
        "  results = np.zeros((len(sequences),dimension))\n",
        "  for i, sequence in enumerate(sequences):\n",
        "    results[i,sequence] = 1.\n",
        "  return results\n",
        "\n",
        "x_train = vectorize_sequences(train_data)\n",
        "x_test = vectorize_sequences(test_data)"
      ],
      "execution_count": 5,
      "outputs": []
    },
    {
      "cell_type": "code",
      "metadata": {
        "id": "Z6pU-3gR0ecP"
      },
      "source": [
        "def to_one_hot(labels, dimension=46):\n",
        "  results = np.zeros((len(labels),dimension))\n",
        "  for i,label in enumerate(labels):\n",
        "    results[i,label] = 1.\n",
        "  return results\n",
        "\n",
        "one_hot_train_labels = to_one_hot(train_labels)\n",
        "one_hot_test_labels = to_one_hot(test_labels)"
      ],
      "execution_count": 7,
      "outputs": []
    },
    {
      "cell_type": "code",
      "metadata": {
        "id": "Ej0Ab-An8uhI"
      },
      "source": [
        "#from keras.utils.np_utils import to_categorical      ## The short way to create function you seen above.\n",
        "#one_hot_train_labels = to_categorical(train_labels)\n",
        "#one_hot_test_labels = to_categorical(test_labels)"
      ],
      "execution_count": 10,
      "outputs": []
    },
    {
      "cell_type": "code",
      "metadata": {
        "id": "XoClYLdG8y1Y"
      },
      "source": [
        "from keras import models\n",
        "from keras import layers\n",
        "model = models.Sequential()\n",
        "model.add(layers.Dense(64, activation='relu', input_shape=(10000,)))\n",
        "model.add(layers.Dense(64, activation='relu'))\n",
        "model.add(layers.Dense(46, activation='softmax'))"
      ],
      "execution_count": 9,
      "outputs": []
    },
    {
      "cell_type": "code",
      "metadata": {
        "id": "6YUkOmX182d_"
      },
      "source": [
        "model.compile(optimizer='rmsprop',\n",
        "              loss='categorical_crossentropy',\n",
        "              metrics=['accuracy'])"
      ],
      "execution_count": 11,
      "outputs": []
    },
    {
      "cell_type": "code",
      "metadata": {
        "id": "MJBHhj-a_RXP"
      },
      "source": [
        "x_val = x_train[:1000]\n",
        "partial_x_train = x_train[1000:]\n",
        "y_val = one_hot_train_labels[:1000]\n",
        "partial_y_train = one_hot_train_labels[1000:]"
      ],
      "execution_count": 12,
      "outputs": []
    },
    {
      "cell_type": "code",
      "metadata": {
        "colab": {
          "base_uri": "https://localhost:8080/"
        },
        "id": "GUp665r5_XKV",
        "outputId": "dc85d4fd-5f5a-41de-936b-d47a8a376c72"
      },
      "source": [
        "history = model.fit(partial_x_train,\n",
        "                    partial_y_train,\n",
        "                    epochs=20,\n",
        "                    batch_size=512,\n",
        "                    validation_data=(x_val, y_val))"
      ],
      "execution_count": 13,
      "outputs": [
        {
          "output_type": "stream",
          "name": "stdout",
          "text": [
            "Epoch 1/20\n",
            "16/16 [==============================] - 2s 58ms/step - loss: 2.6015 - accuracy: 0.5395 - val_loss: 1.7403 - val_accuracy: 0.6530\n",
            "Epoch 2/20\n",
            "16/16 [==============================] - 1s 44ms/step - loss: 1.4106 - accuracy: 0.7122 - val_loss: 1.2970 - val_accuracy: 0.7200\n",
            "Epoch 3/20\n",
            "16/16 [==============================] - 1s 44ms/step - loss: 1.0444 - accuracy: 0.7798 - val_loss: 1.1279 - val_accuracy: 0.7610\n",
            "Epoch 4/20\n",
            "16/16 [==============================] - 1s 44ms/step - loss: 0.8182 - accuracy: 0.8281 - val_loss: 1.0167 - val_accuracy: 0.7910\n",
            "Epoch 5/20\n",
            "16/16 [==============================] - 1s 43ms/step - loss: 0.6536 - accuracy: 0.8638 - val_loss: 0.9542 - val_accuracy: 0.8010\n",
            "Epoch 6/20\n",
            "16/16 [==============================] - 1s 43ms/step - loss: 0.5262 - accuracy: 0.8908 - val_loss: 0.9077 - val_accuracy: 0.8120\n",
            "Epoch 7/20\n",
            "16/16 [==============================] - 1s 43ms/step - loss: 0.4202 - accuracy: 0.9129 - val_loss: 0.8890 - val_accuracy: 0.8080\n",
            "Epoch 8/20\n",
            "16/16 [==============================] - 1s 43ms/step - loss: 0.3469 - accuracy: 0.9251 - val_loss: 0.8752 - val_accuracy: 0.8080\n",
            "Epoch 9/20\n",
            "16/16 [==============================] - 1s 43ms/step - loss: 0.2854 - accuracy: 0.9375 - val_loss: 0.8744 - val_accuracy: 0.8210\n",
            "Epoch 10/20\n",
            "16/16 [==============================] - 1s 44ms/step - loss: 0.2412 - accuracy: 0.9459 - val_loss: 0.8813 - val_accuracy: 0.8180\n",
            "Epoch 11/20\n",
            "16/16 [==============================] - 1s 43ms/step - loss: 0.2088 - accuracy: 0.9501 - val_loss: 0.9148 - val_accuracy: 0.8180\n",
            "Epoch 12/20\n",
            "16/16 [==============================] - 1s 43ms/step - loss: 0.1846 - accuracy: 0.9508 - val_loss: 0.9872 - val_accuracy: 0.7980\n",
            "Epoch 13/20\n",
            "16/16 [==============================] - 1s 43ms/step - loss: 0.1641 - accuracy: 0.9545 - val_loss: 0.9417 - val_accuracy: 0.8070\n",
            "Epoch 14/20\n",
            "16/16 [==============================] - 1s 44ms/step - loss: 0.1527 - accuracy: 0.9545 - val_loss: 0.9694 - val_accuracy: 0.8060\n",
            "Epoch 15/20\n",
            "16/16 [==============================] - 1s 44ms/step - loss: 0.1395 - accuracy: 0.9559 - val_loss: 0.9629 - val_accuracy: 0.8080\n",
            "Epoch 16/20\n",
            "16/16 [==============================] - 1s 43ms/step - loss: 0.1331 - accuracy: 0.9587 - val_loss: 1.0387 - val_accuracy: 0.8130\n",
            "Epoch 17/20\n",
            "16/16 [==============================] - 1s 43ms/step - loss: 0.1257 - accuracy: 0.9573 - val_loss: 1.0959 - val_accuracy: 0.7900\n",
            "Epoch 18/20\n",
            "16/16 [==============================] - 1s 44ms/step - loss: 0.1218 - accuracy: 0.9568 - val_loss: 1.0038 - val_accuracy: 0.8150\n",
            "Epoch 19/20\n",
            "16/16 [==============================] - 1s 44ms/step - loss: 0.1121 - accuracy: 0.9592 - val_loss: 1.0403 - val_accuracy: 0.8110\n",
            "Epoch 20/20\n",
            "16/16 [==============================] - 1s 42ms/step - loss: 0.1166 - accuracy: 0.9565 - val_loss: 1.0873 - val_accuracy: 0.7970\n"
          ]
        }
      ]
    },
    {
      "cell_type": "code",
      "metadata": {
        "colab": {
          "base_uri": "https://localhost:8080/",
          "height": 295
        },
        "id": "Edw9AmCg_i_I",
        "outputId": "4ecdbbd4-6efe-4079-fdf7-6048166fd77d"
      },
      "source": [
        "import matplotlib.pyplot as plt\n",
        "\n",
        "history_dict = history.history\n",
        "loss = history.history['loss']\n",
        "val_loss = history.history['val_loss']\n",
        "\n",
        "epochs = range(1, len(loss) + 1)\n",
        "plt.plot(epochs, loss, 'bo', label='Training loss')\n",
        "plt.plot(epochs, val_loss, 'b', label='Validation loss')\n",
        "plt.title('Training and validation loss')\n",
        "plt.xlabel('Epochs')\n",
        "plt.ylabel('Loss')\n",
        "plt.legend()\n",
        "plt.show()"
      ],
      "execution_count": 20,
      "outputs": [
        {
          "output_type": "display_data",
          "data": {
            "image/png": "[encoded data removed]",
            "text/plain": [
              "<Figure size 432x288 with 1 Axes>"
            ]
          },
          "metadata": {
            "needs_background": "light"
          }
        }
      ]
    },
    {
      "cell_type": "code",
      "metadata": {
        "colab": {
          "base_uri": "https://localhost:8080/",
          "height": 295
        },
        "id": "d1FQ8vCh_qc9",
        "outputId": "caa938f9-0236-4396-b48e-53dec0b097a3"
      },
      "source": [
        "plt.clf()\n",
        "acc_values = history.history['accuracy']\n",
        "val_acc = history.history['val_accuracy']\n",
        "plt.plot(epochs, acc_values, 'bo', label='Training acc')\n",
        "plt.plot(epochs, val_acc, 'b', label='Validation acc')\n",
        "plt.title('Training and validation accuracy')\n",
        "plt.xlabel('Epochs')\n",
        "plt.ylabel('Loss')\n",
        "plt.legend()\n",
        "plt.show()"
      ],
      "execution_count": 25,
      "outputs": [
        {
          "output_type": "display_data",
          "data": {
            "image/png": "[encoded data removed]",
            "text/plain": [
              "<Figure size 432x288 with 1 Axes>"
            ]
          },
          "metadata": {
            "needs_background": "light"
          }
        }
      ]
    },
    {
      "cell_type": "code",
      "metadata": {
        "colab": {
          "base_uri": "https://localhost:8080/"
        },
        "id": "uTOyKXUR_seY",
        "outputId": "296a5e94-3364-47f3-c60d-c61114d291c8"
      },
      "source": [
        "## After see the overfitting(at epoch=9), i changed epoch number to 9.\n",
        "\n",
        "model = models.Sequential()\n",
        "model.add(layers.Dense(64, activation='relu', input_shape=(10000,)))\n",
        "model.add(layers.Dense(64, activation='relu'))\n",
        "model.add(layers.Dense(46, activation='softmax'))\n",
        "model.compile(optimizer='rmsprop',\n",
        "loss='categorical_crossentropy',\n",
        "metrics=['accuracy'])\n",
        "model.fit(partial_x_train,\n",
        "          partial_y_train,\n",
        "          epochs=9,\n",
        "          batch_size=512,\n",
        "          validation_data=(x_val, y_val))\n",
        "          results = model.evaluate(x_test, one_hot_test_labels)"
      ],
      "execution_count": 26,
      "outputs": [
        {
          "output_type": "stream",
          "name": "stdout",
          "text": [
            "Epoch 1/9\n",
            "16/16 [==============================] - 1s 55ms/step - loss: 2.6370 - accuracy: 0.4743 - val_loss: 1.7667 - val_accuracy: 0.6760\n",
            "Epoch 2/9\n",
            "16/16 [==============================] - 1s 44ms/step - loss: 1.4007 - accuracy: 0.7224 - val_loss: 1.2866 - val_accuracy: 0.7240\n",
            "Epoch 3/9\n",
            "16/16 [==============================] - 1s 43ms/step - loss: 1.0312 - accuracy: 0.7835 - val_loss: 1.1201 - val_accuracy: 0.7610\n",
            "Epoch 4/9\n",
            "16/16 [==============================] - 1s 43ms/step - loss: 0.8186 - accuracy: 0.8266 - val_loss: 1.0258 - val_accuracy: 0.7800\n",
            "Epoch 5/9\n",
            "16/16 [==============================] - 1s 43ms/step - loss: 0.6521 - accuracy: 0.8637 - val_loss: 0.9654 - val_accuracy: 0.7910\n",
            "Epoch 6/9\n",
            "16/16 [==============================] - 1s 43ms/step - loss: 0.5220 - accuracy: 0.8928 - val_loss: 0.9417 - val_accuracy: 0.7980\n",
            "Epoch 7/9\n",
            "16/16 [==============================] - 1s 43ms/step - loss: 0.4241 - accuracy: 0.9148 - val_loss: 0.8866 - val_accuracy: 0.8090\n",
            "Epoch 8/9\n",
            "16/16 [==============================] - 1s 43ms/step - loss: 0.3458 - accuracy: 0.9298 - val_loss: 0.8837 - val_accuracy: 0.8170\n",
            "Epoch 9/9\n",
            "16/16 [==============================] - 1s 42ms/step - loss: 0.2881 - accuracy: 0.9376 - val_loss: 0.8886 - val_accuracy: 0.8150\n",
            "71/71 [==============================] - 0s 2ms/step - loss: 0.9629 - accuracy: 0.7912\n"
          ]
        }
      ]
    },
    {
      "cell_type": "code",
      "metadata": {
        "colab": {
          "base_uri": "https://localhost:8080/"
        },
        "id": "z0RH-CqwI3xI",
        "outputId": "55f7e88c-6dc1-4b9e-8819-0a66f8a25b0d"
      },
      "source": [
        "results"
      ],
      "execution_count": 27,
      "outputs": [
        {
          "output_type": "execute_result",
          "data": {
            "text/plain": [
              "[0.9629116058349609, 0.7911843061447144]"
            ]
          },
          "metadata": {},
          "execution_count": 27
        }
      ]
    },
    {
      "cell_type": "code",
      "metadata": {
        "id": "9VMvbau8I9zF"
      },
      "source": [
        "predictions = model.predict(x_test)"
      ],
      "execution_count": 28,
      "outputs": []
    }
  ]
}
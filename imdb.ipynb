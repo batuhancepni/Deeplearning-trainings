{
  "nbformat": 4,
  "nbformat_minor": 0,
  "metadata": {
    "colab": {
      "name": "imdb.ipynb",
      "provenance": [],
      "collapsed_sections": [],
      "authorship_tag": "ABX9TyNZLpu2fSqm4XZb3JiW9SkP",
      "include_colab_link": true
    },
    "kernelspec": {
      "name": "python3",
      "display_name": "Python 3"
    },
    "language_info": {
      "name": "python"
    }
  },
  "cells": [
    {
      "cell_type": "markdown",
      "metadata": {
        "id": "view-in-github",
        "colab_type": "text"
      },
      "source": [
        "<a href=\"https://colab.research.google.com/github/batuhancepni/keras_imdb/blob/main/imdb.ipynb\" target=\"_parent\"><img src=\"https://colab.research.google.com/assets/colab-badge.svg\" alt=\"Open In Colab\"/></a>"
      ]
    },
    {
      "cell_type": "code",
      "metadata": {
        "colab": {
          "base_uri": "https://localhost:8080/"
        },
        "id": "Dh1qXqI7wObf",
        "outputId": "81225b28-649b-469d-bdfa-0f8a7f8eea99"
      },
      "source": [
        "from keras.datasets import imdb\n",
        "(train_data, train_labels), (test_data, test_labels) = imdb.load_data(num_words=10000)"
      ],
      "execution_count": 1,
      "outputs": [
        {
          "output_type": "stream",
          "name": "stdout",
          "text": [
            "Downloading data from https://storage.googleapis.com/tensorflow/tf-keras-datasets/imdb.npz\n",
            "17465344/17464789 [==============================] - 0s 0us/step\n",
            "17473536/17464789 [==============================] - 0s 0us/step\n"
          ]
        }
      ]
    },
    {
      "cell_type": "code",
      "metadata": {
        "colab": {
          "base_uri": "https://localhost:8080/"
        },
        "id": "uk9V-u1K1DaT",
        "outputId": "ab988bf3-1d65-4c3a-960f-efb25bbda817"
      },
      "source": [
        "train_data[0]"
      ],
      "execution_count": 2,
      "outputs": [
        {
          "output_type": "execute_result",
          "data": {
            "text/plain": [
              "[1,\n",
              " 14,\n",
              " 22,\n",
              " 16,\n",
              " 43,\n",
              " 530,\n",
              " 973,\n",
              " 1622,\n",
              " 1385,\n",
              " 65,\n",
              " 458,\n",
              " 4468,\n",
              " 66,\n",
              " 3941,\n",
              " 4,\n",
              " 173,\n",
              " 36,\n",
              " 256,\n",
              " 5,\n",
              " 25,\n",
              " 100,\n",
              " 43,\n",
              " 838,\n",
              " 112,\n",
              " 50,\n",
              " 670,\n",
              " 2,\n",
              " 9,\n",
              " 35,\n",
              " 480,\n",
              " 284,\n",
              " 5,\n",
              " 150,\n",
              " 4,\n",
              " 172,\n",
              " 112,\n",
              " 167,\n",
              " 2,\n",
              " 336,\n",
              " 385,\n",
              " 39,\n",
              " 4,\n",
              " 172,\n",
              " 4536,\n",
              " 1111,\n",
              " 17,\n",
              " 546,\n",
              " 38,\n",
              " 13,\n",
              " 447,\n",
              " 4,\n",
              " 192,\n",
              " 50,\n",
              " 16,\n",
              " 6,\n",
              " 147,\n",
              " 2025,\n",
              " 19,\n",
              " 14,\n",
              " 22,\n",
              " 4,\n",
              " 1920,\n",
              " 4613,\n",
              " 469,\n",
              " 4,\n",
              " 22,\n",
              " 71,\n",
              " 87,\n",
              " 12,\n",
              " 16,\n",
              " 43,\n",
              " 530,\n",
              " 38,\n",
              " 76,\n",
              " 15,\n",
              " 13,\n",
              " 1247,\n",
              " 4,\n",
              " 22,\n",
              " 17,\n",
              " 515,\n",
              " 17,\n",
              " 12,\n",
              " 16,\n",
              " 626,\n",
              " 18,\n",
              " 2,\n",
              " 5,\n",
              " 62,\n",
              " 386,\n",
              " 12,\n",
              " 8,\n",
              " 316,\n",
              " 8,\n",
              " 106,\n",
              " 5,\n",
              " 4,\n",
              " 2223,\n",
              " 5244,\n",
              " 16,\n",
              " 480,\n",
              " 66,\n",
              " 3785,\n",
              " 33,\n",
              " 4,\n",
              " 130,\n",
              " 12,\n",
              " 16,\n",
              " 38,\n",
              " 619,\n",
              " 5,\n",
              " 25,\n",
              " 124,\n",
              " 51,\n",
              " 36,\n",
              " 135,\n",
              " 48,\n",
              " 25,\n",
              " 1415,\n",
              " 33,\n",
              " 6,\n",
              " 22,\n",
              " 12,\n",
              " 215,\n",
              " 28,\n",
              " 77,\n",
              " 52,\n",
              " 5,\n",
              " 14,\n",
              " 407,\n",
              " 16,\n",
              " 82,\n",
              " 2,\n",
              " 8,\n",
              " 4,\n",
              " 107,\n",
              " 117,\n",
              " 5952,\n",
              " 15,\n",
              " 256,\n",
              " 4,\n",
              " 2,\n",
              " 7,\n",
              " 3766,\n",
              " 5,\n",
              " 723,\n",
              " 36,\n",
              " 71,\n",
              " 43,\n",
              " 530,\n",
              " 476,\n",
              " 26,\n",
              " 400,\n",
              " 317,\n",
              " 46,\n",
              " 7,\n",
              " 4,\n",
              " 2,\n",
              " 1029,\n",
              " 13,\n",
              " 104,\n",
              " 88,\n",
              " 4,\n",
              " 381,\n",
              " 15,\n",
              " 297,\n",
              " 98,\n",
              " 32,\n",
              " 2071,\n",
              " 56,\n",
              " 26,\n",
              " 141,\n",
              " 6,\n",
              " 194,\n",
              " 7486,\n",
              " 18,\n",
              " 4,\n",
              " 226,\n",
              " 22,\n",
              " 21,\n",
              " 134,\n",
              " 476,\n",
              " 26,\n",
              " 480,\n",
              " 5,\n",
              " 144,\n",
              " 30,\n",
              " 5535,\n",
              " 18,\n",
              " 51,\n",
              " 36,\n",
              " 28,\n",
              " 224,\n",
              " 92,\n",
              " 25,\n",
              " 104,\n",
              " 4,\n",
              " 226,\n",
              " 65,\n",
              " 16,\n",
              " 38,\n",
              " 1334,\n",
              " 88,\n",
              " 12,\n",
              " 16,\n",
              " 283,\n",
              " 5,\n",
              " 16,\n",
              " 4472,\n",
              " 113,\n",
              " 103,\n",
              " 32,\n",
              " 15,\n",
              " 16,\n",
              " 5345,\n",
              " 19,\n",
              " 178,\n",
              " 32]"
            ]
          },
          "metadata": {},
          "execution_count": 2
        }
      ]
    },
    {
      "cell_type": "code",
      "metadata": {
        "colab": {
          "base_uri": "https://localhost:8080/"
        },
        "id": "iNxYpFDN1fmC",
        "outputId": "28788e16-0b7f-4371-d583-52868104907c"
      },
      "source": [
        "word_index = imdb.get_word_index()"
      ],
      "execution_count": 5,
      "outputs": [
        {
          "output_type": "stream",
          "name": "stdout",
          "text": [
            "Downloading data from https://storage.googleapis.com/tensorflow/tf-keras-datasets/imdb_word_index.json\n",
            "1646592/1641221 [==============================] - 0s 0us/step\n",
            "1654784/1641221 [==============================] - 0s 0us/step\n"
          ]
        }
      ]
    },
    {
      "cell_type": "code",
      "metadata": {
        "id": "aEm1kFVR1zl1"
      },
      "source": [
        "reverse_word_index = dict([(value, key) for (key, value) in word_index.items()])"
      ],
      "execution_count": 6,
      "outputs": []
    },
    {
      "cell_type": "code",
      "metadata": {
        "id": "LTMQG5gy2Yty"
      },
      "source": [
        "decoded_review = ' '.join([reverse_word_index.get(i - 3, '?') for i in train_data[0]])"
      ],
      "execution_count": 7,
      "outputs": []
    },
    {
      "cell_type": "code",
      "metadata": {
        "colab": {
          "base_uri": "https://localhost:8080/"
        },
        "id": "Z10JUaMy2aIY",
        "outputId": "41c7666f-6d3e-46b4-e086-8f54304c176c"
      },
      "source": [
        "max([max(sequence) for sequence in train_data])"
      ],
      "execution_count": 8,
      "outputs": [
        {
          "output_type": "execute_result",
          "data": {
            "text/plain": [
              "9999"
            ]
          },
          "metadata": {},
          "execution_count": 8
        }
      ]
    },
    {
      "cell_type": "code",
      "metadata": {
        "id": "yUNBWIZW24UR"
      },
      "source": [
        "import numpy as np"
      ],
      "execution_count": 9,
      "outputs": []
    },
    {
      "cell_type": "code",
      "metadata": {
        "id": "fSYZpYV63Ya-"
      },
      "source": [
        "def vectorize_data(data, dimension=10000):\n",
        "  results = np.zeros((len(data), dimension))\n",
        "  for i, sequence in enumerate(data):\n",
        "    results[i, sequence] = 1.\n",
        "  return results\n",
        "\n",
        "x_train = vectorize_data(train_data)\n",
        "x_test = vectorize_data(test_data)\n"
      ],
      "execution_count": 10,
      "outputs": []
    },
    {
      "cell_type": "code",
      "metadata": {
        "colab": {
          "base_uri": "https://localhost:8080/"
        },
        "id": "J8iOAFYq5XZv",
        "outputId": "7d179f7a-d3a6-43d7-e91e-e9bba3a099bb"
      },
      "source": [
        "x_train[0]"
      ],
      "execution_count": 11,
      "outputs": [
        {
          "output_type": "execute_result",
          "data": {
            "text/plain": [
              "array([0., 1., 1., ..., 0., 0., 0.])"
            ]
          },
          "metadata": {},
          "execution_count": 11
        }
      ]
    },
    {
      "cell_type": "code",
      "metadata": {
        "colab": {
          "base_uri": "https://localhost:8080/"
        },
        "id": "uEYPalSZ5rZ6",
        "outputId": "a470435e-4ca6-49a5-f249-769b8f223a01"
      },
      "source": [
        "x_train[1]"
      ],
      "execution_count": 12,
      "outputs": [
        {
          "output_type": "execute_result",
          "data": {
            "text/plain": [
              "array([0., 1., 1., ..., 0., 0., 0.])"
            ]
          },
          "metadata": {},
          "execution_count": 12
        }
      ]
    },
    {
      "cell_type": "code",
      "metadata": {
        "id": "CCz_YbuF5zV9"
      },
      "source": [
        "  y_train = np.asarray(train_labels).astype('float32')\n",
        "  y_test = np.asarray(test_labels).astype('float32')"
      ],
      "execution_count": 13,
      "outputs": []
    },
    {
      "cell_type": "code",
      "metadata": {
        "colab": {
          "base_uri": "https://localhost:8080/"
        },
        "id": "bDJFBkg1BVPM",
        "outputId": "72467f37-f436-4fa3-917e-f036380ae8b6"
      },
      "source": [
        "print(y_train)\n",
        "print(y_test)"
      ],
      "execution_count": 14,
      "outputs": [
        {
          "output_type": "stream",
          "name": "stdout",
          "text": [
            "[1. 0. 0. ... 0. 1. 0.]\n",
            "[0. 1. 1. ... 0. 0. 0.]\n"
          ]
        }
      ]
    },
    {
      "cell_type": "code",
      "metadata": {
        "id": "75pJuiiVZRwU"
      },
      "source": [
        "from keras import models\n",
        "from keras import layers\n",
        "\n",
        "model = models.Sequential()\n",
        "model.add(layers.Dense(64, activation='relu', input_shape=(10000,)))\n",
        "model.add(layers.Dense(64, activation='relu'))\n",
        "model.add(layers.Dense(1, activation='sigmoid'))"
      ],
      "execution_count": 68,
      "outputs": []
    },
    {
      "cell_type": "code",
      "metadata": {
        "id": "rwPHQH54p5ly"
      },
      "source": [
        "from tensorflow.keras import optimizers"
      ],
      "execution_count": 69,
      "outputs": []
    },
    {
      "cell_type": "code",
      "metadata": {
        "colab": {
          "base_uri": "https://localhost:8080/"
        },
        "id": "UdGReaxiq3XJ",
        "outputId": "5cab3fca-00c0-44c9-9fba-99516a78205a"
      },
      "source": [
        "x_val = x_train[:10000]\n",
        "partial_x_train = x_train[10000:]\n",
        "\n",
        "y_val = y_train[:10000]\n",
        "partial_y_train = y_train[10000:]\n",
        "\n",
        "print(x_val.shape)\n",
        "print(y_val.shape)"
      ],
      "execution_count": 70,
      "outputs": [
        {
          "output_type": "stream",
          "name": "stdout",
          "text": [
            "(10000, 10000)\n",
            "(10000,)\n"
          ]
        }
      ]
    },
    {
      "cell_type": "code",
      "metadata": {
        "colab": {
          "base_uri": "https://localhost:8080/"
        },
        "id": "SKsggKV_4SLi",
        "outputId": "0afab160-cdcb-4c4c-9fbd-4702f31d90f8"
      },
      "source": [
        "model.compile(optimizer='rmsprop', loss='binary_crossentropy', metrics=['acc'])\n",
        "history = model.fit(partial_x_train,\n",
        "                    partial_y_train,\n",
        "                    epochs=25,\n",
        "                    batch_size=512,\n",
        "                    validation_data=(x_val, y_val))"
      ],
      "execution_count": 71,
      "outputs": [
        {
          "output_type": "stream",
          "name": "stdout",
          "text": [
            "Epoch 1/25\n",
            "30/30 [==============================] - 2s 60ms/step - loss: 0.4836 - acc: 0.7734 - val_loss: 0.3879 - val_acc: 0.8376\n",
            "Epoch 2/25\n",
            "30/30 [==============================] - 2s 51ms/step - loss: 0.2640 - acc: 0.9032 - val_loss: 0.2794 - val_acc: 0.8900\n",
            "Epoch 3/25\n",
            "30/30 [==============================] - 1s 50ms/step - loss: 0.1885 - acc: 0.9324 - val_loss: 0.2873 - val_acc: 0.8849\n",
            "Epoch 4/25\n",
            "30/30 [==============================] - 2s 51ms/step - loss: 0.1447 - acc: 0.9493 - val_loss: 0.2903 - val_acc: 0.8871\n",
            "Epoch 5/25\n",
            "30/30 [==============================] - 2s 50ms/step - loss: 0.1036 - acc: 0.9645 - val_loss: 0.3255 - val_acc: 0.8806\n",
            "Epoch 6/25\n",
            "30/30 [==============================] - 2s 50ms/step - loss: 0.0753 - acc: 0.9763 - val_loss: 0.4123 - val_acc: 0.8673\n",
            "Epoch 7/25\n",
            "30/30 [==============================] - 2s 51ms/step - loss: 0.0697 - acc: 0.9755 - val_loss: 0.3765 - val_acc: 0.8812\n",
            "Epoch 8/25\n",
            "30/30 [==============================] - 2s 51ms/step - loss: 0.0513 - acc: 0.9839 - val_loss: 0.4129 - val_acc: 0.8762\n",
            "Epoch 9/25\n",
            "30/30 [==============================] - 2s 50ms/step - loss: 0.0172 - acc: 0.9974 - val_loss: 0.4710 - val_acc: 0.8754\n",
            "Epoch 10/25\n",
            "30/30 [==============================] - 1s 50ms/step - loss: 0.0370 - acc: 0.9897 - val_loss: 0.5087 - val_acc: 0.8745\n",
            "Epoch 11/25\n",
            "30/30 [==============================] - 2s 51ms/step - loss: 0.0063 - acc: 0.9997 - val_loss: 0.5662 - val_acc: 0.8748\n",
            "Epoch 12/25\n",
            "30/30 [==============================] - 2s 51ms/step - loss: 0.0391 - acc: 0.9899 - val_loss: 0.5902 - val_acc: 0.8739\n",
            "Epoch 13/25\n",
            "30/30 [==============================] - 2s 51ms/step - loss: 0.0028 - acc: 0.9997 - val_loss: 0.6396 - val_acc: 0.8739\n",
            "Epoch 14/25\n",
            "30/30 [==============================] - 2s 50ms/step - loss: 0.0294 - acc: 0.9917 - val_loss: 0.6609 - val_acc: 0.8726\n",
            "Epoch 15/25\n",
            "30/30 [==============================] - 2s 52ms/step - loss: 0.0014 - acc: 0.9999 - val_loss: 0.6982 - val_acc: 0.8713\n",
            "Epoch 16/25\n",
            "30/30 [==============================] - 2s 50ms/step - loss: 8.9983e-04 - acc: 0.9999 - val_loss: 0.7575 - val_acc: 0.8702\n",
            "Epoch 17/25\n",
            "30/30 [==============================] - 2s 51ms/step - loss: 0.0136 - acc: 0.9975 - val_loss: 1.0279 - val_acc: 0.8468\n",
            "Epoch 18/25\n",
            "30/30 [==============================] - 2s 50ms/step - loss: 8.1762e-04 - acc: 0.9999 - val_loss: 0.8562 - val_acc: 0.8681\n",
            "Epoch 19/25\n",
            "30/30 [==============================] - 2s 51ms/step - loss: 2.8355e-04 - acc: 1.0000 - val_loss: 0.8835 - val_acc: 0.8691\n",
            "Epoch 20/25\n",
            "30/30 [==============================] - 2s 50ms/step - loss: 1.8272e-04 - acc: 1.0000 - val_loss: 0.9327 - val_acc: 0.8686\n",
            "Epoch 21/25\n",
            "30/30 [==============================] - 1s 50ms/step - loss: 1.0578e-04 - acc: 1.0000 - val_loss: 1.0304 - val_acc: 0.8662\n",
            "Epoch 22/25\n",
            "30/30 [==============================] - 2s 53ms/step - loss: 0.0268 - acc: 0.9944 - val_loss: 1.1310 - val_acc: 0.8608\n",
            "Epoch 23/25\n",
            "30/30 [==============================] - 1s 50ms/step - loss: 7.9028e-05 - acc: 1.0000 - val_loss: 1.1184 - val_acc: 0.8649\n",
            "Epoch 24/25\n",
            "30/30 [==============================] - 2s 50ms/step - loss: 4.2084e-05 - acc: 1.0000 - val_loss: 1.1260 - val_acc: 0.8663\n",
            "Epoch 25/25\n",
            "30/30 [==============================] - 1s 50ms/step - loss: 2.6445e-05 - acc: 1.0000 - val_loss: 1.1450 - val_acc: 0.8658\n"
          ]
        }
      ]
    },
    {
      "cell_type": "code",
      "metadata": {
        "colab": {
          "base_uri": "https://localhost:8080/"
        },
        "id": "2pHOxF2X5GgE",
        "outputId": "036721a7-9d78-4042-95ba-76b55b4be3d2"
      },
      "source": [
        "history_dict = history.history\n",
        "history_dict.keys()"
      ],
      "execution_count": 72,
      "outputs": [
        {
          "output_type": "execute_result",
          "data": {
            "text/plain": [
              "dict_keys(['loss', 'acc', 'val_loss', 'val_acc'])"
            ]
          },
          "metadata": {},
          "execution_count": 72
        }
      ]
    },
    {
      "cell_type": "code",
      "metadata": {
        "colab": {
          "base_uri": "https://localhost:8080/",
          "height": 295
        },
        "id": "RpU7DkZ1OeKj",
        "outputId": "1156adce-4787-424f-f63c-257f58cf08d4"
      },
      "source": [
        "import matplotlib.pyplot as plt\n",
        "\n",
        "history_dict = history.history\n",
        "loss_values= history_dict['loss']\n",
        "val_loss_values = history_dict['val_loss']\n",
        "acc_values = history_dict['acc']\n",
        "\n",
        "epochs= range(1, len(acc_values) +1)\n",
        "\n",
        "plt.plot(epochs, loss_values, 'bo', label='Training loss')\n",
        "plt.plot(epochs, val_loss_values, 'b', label='Validation loss')\n",
        "plt.title('Training and validation loss')\n",
        "plt.xlabel('Epochs')\n",
        "plt.ylabel('Loss')\n",
        "plt.legend()\n",
        "plt.show()"
      ],
      "execution_count": 73,
      "outputs": [
        {
          "output_type": "display_data",
          "data": {
            "image/png": "[encoded data removed]",
            "text/plain": [
              "<Figure size 432x288 with 1 Axes>"
            ]
          },
          "metadata": {
            "needs_background": "light"
          }
        }
      ]
    },
    {
      "cell_type": "code",
      "metadata": {
        "colab": {
          "base_uri": "https://localhost:8080/",
          "height": 295
        },
        "id": "6KLRO8_kPMae",
        "outputId": "fd4d27bc-826e-4514-eddc-c89be591d0ba"
      },
      "source": [
        "plt.clf()\n",
        "acc_values = history_dict['acc']\n",
        "val_acc_values = history_dict['val_acc']\n",
        "plt.plot(epochs, acc_values, 'bo', label='Training acc')\n",
        "plt.plot(epochs, val_acc_values, 'b', label='Validation acc')\n",
        "plt.title('Training and validation accuracy')\n",
        "plt.xlabel('Epochs')\n",
        "plt.ylabel('Loss')\n",
        "plt.legend()\n",
        "plt.show()"
      ],
      "execution_count": 74,
      "outputs": [
        {
          "output_type": "display_data",
          "data": {
            "image/png": "[encoded data removed]",
            "text/plain": [
              "<Figure size 432x288 with 1 Axes>"
            ]
          },
          "metadata": {
            "needs_background": "light"
          }
        }
      ]
    },
    {
      "cell_type": "code",
      "metadata": {
        "colab": {
          "base_uri": "https://localhost:8080/"
        },
        "id": "M5CSvOPfSCNY",
        "outputId": "9b0ce1c8-e375-4ea2-c594-fb6f62c3213e"
      },
      "source": [
        "results = model.evaluate(x_test,y_test)"
      ],
      "execution_count": 75,
      "outputs": [
        {
          "output_type": "stream",
          "name": "stdout",
          "text": [
            "782/782 [==============================] - 2s 3ms/step - loss: 1.2495 - acc: 0.8504\n"
          ]
        }
      ]
    },
    {
      "cell_type": "code",
      "metadata": {
        "colab": {
          "base_uri": "https://localhost:8080/"
        },
        "id": "SmcXSbCAid1Y",
        "outputId": "598c4b83-b917-46c5-fd79-22889bd521a8"
      },
      "source": [
        "results"
      ],
      "execution_count": 76,
      "outputs": [
        {
          "output_type": "execute_result",
          "data": {
            "text/plain": [
              "[1.249509572982788, 0.8504400253295898]"
            ]
          },
          "metadata": {},
          "execution_count": 76
        }
      ]
    },
    {
      "cell_type": "code",
      "metadata": {
        "colab": {
          "base_uri": "https://localhost:8080/"
        },
        "id": "FDHPiOqKikgp",
        "outputId": "265b092f-2f15-4351-8e73-7ec586b85fda"
      },
      "source": [
        "model.predict(x_test)"
      ],
      "execution_count": 77,
      "outputs": [
        {
          "output_type": "execute_result",
          "data": {
            "text/plain": [
              "array([[1.19701035e-05],\n",
              "       [1.00000000e+00],\n",
              "       [1.00000000e+00],\n",
              "       ...,\n",
              "       [6.46770000e-04],\n",
              "       [1.58071518e-04],\n",
              "       [9.70311761e-01]], dtype=float32)"
            ]
          },
          "metadata": {},
          "execution_count": 77
        }
      ]
    }
  ]
}